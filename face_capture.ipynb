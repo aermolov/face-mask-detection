{
 "cells": [
  {
   "cell_type": "markdown",
   "metadata": {},
   "source": [
    "### This notebook opens stream video from your webcam (first webcam if more than 1 are detected) and gives prediction if you wearing the mask.\n",
    "### Haarcascade face recogniser from open CV library is used to detect face in the camera and trained CNN model is used to make prediction\n",
    "### Code for CNN model you will find in \"mask_classifier.py\" file\n",
    "### To succesfully run this notebook you need to have \"model_masks_trial2.h5\" file in the same folder where you have this notebook and good illumination. The face recognizer classifier is not optimised for different illumination conditions and black masks (I am happy to hear idea why haarcascade face recongiser performs bad in my case with black masks).\n",
    "### The main idea is to demonstrate the mask recognition. To stop video stream from your camera, press \"Esc\"."
   ]
  },
  {
   "cell_type": "code",
   "execution_count": 19,
   "metadata": {},
   "outputs": [],
   "source": [
    "import cv2\n",
    "import numpy as np\n",
    "new_dim=(160,160)\n",
    "face_cascade = cv2.CascadeClassifier(cv2.data.haarcascades + 'haarcascade_frontalface_default.xml') # importing haarcascade image classifier for face recognition\n",
    "from keras.models import load_model\n",
    "model = load_model('model_masks_trial2.h5', compile = True) # load trained model for mask detection"
   ]
  },
  {
   "cell_type": "code",
   "execution_count": 22,
   "metadata": {},
   "outputs": [
    {
     "name": "stdout",
     "output_type": "stream",
     "text": [
      "Invalid frame\n",
      "Invalid frame\n",
      "Invalid frame\n",
      "Invalid frame\n",
      "Invalid frame\n",
      "Invalid frame\n",
      "Invalid frame\n",
      "Invalid frame\n",
      "Invalid frame\n",
      "failed to grab frame\n"
     ]
    }
   ],
   "source": [
    "cam=cv2.VideoCapture(0) # connect to laptop webcam\n",
    "cv2.namedWindow(\"Mask detection\")\n",
    "while True:\n",
    "    ret, frame = cam.read() # read frame from camera video stream\n",
    "    if not ret: # check if frame was taken\n",
    "        print(\"failed to grab frame\")\n",
    "        break\n",
    "    faces_detected = face_cascade.detectMultiScale(frame, scaleFactor=1.1, minNeighbors=5) # applying haarcascade classifier to detect face on the frame\n",
    "    if type(faces_detected)==tuple: # if face is not recognised show corresponding message on the screen\n",
    "        clr=(255, 0, 255)\n",
    "        txt=\"No face detected\"\n",
    "        cv2.putText(frame, txt, (int(frame.shape[0]/2), int(frame.shape[1]/2)), 1, 2, clr)\n",
    "        cv2.imshow(\"Mask detection\", frame)\n",
    "    else:\n",
    "        (x, y, w, h) = faces_detected[0] # get face coordinates\n",
    "        face_croped=frame[y-20:y+h+20, x:x+w] # extract face\n",
    "        try:\n",
    "            X=cv2.resize(face_croped, new_dim, interpolation=cv2.INTER_LINEAR)\n",
    "            v=X.shape\n",
    "            X=np.reshape(X, [1, v[0], v[1], v[2]])\n",
    "            y_pred=(model.predict(X) > 0.5).astype(\"int32\") # apply \"mask/no mask\" prediction to frame\n",
    "            prob=model.predict(X)[0][0]\n",
    "            if y_pred==0:     \n",
    "                prob=1-prob\n",
    "                txt=\"No mask!\"+str(round(prob*100, 3))+\"%\"\n",
    "                clr=(0, 0, 255)\n",
    "            else:\n",
    "                txt=\"Mask!\"+str(round(prob*100, 3))+\"%\"\n",
    "                clr=(0, 255, 0)\n",
    "            cv2.rectangle(frame, (x, y-20), (x+w, y+h+20), clr, 1)\n",
    "            cv2.putText(frame, txt, (x,y), 1, 1, clr) # show message if mask or no mask is detected\n",
    "            cv2.imshow(\"Mask detection\", frame)\n",
    "        except cv2.error as exp: # catch \"bad\" frames errors\n",
    "            print(\"Invalid frame\")\n",
    "            \n",
    "    k = cv2.waitKey(10)\n",
    "    if k%256 == 27:\n",
    "        # ESC pressed\n",
    "        print(\"Escape hit, closing...\")\n",
    "        break\n",
    "cam.release()\n",
    "\n",
    "cv2.destroyAllWindows()"
   ]
  },
  {
   "cell_type": "code",
   "execution_count": null,
   "metadata": {},
   "outputs": [],
   "source": []
  }
 ],
 "metadata": {
  "kernelspec": {
   "display_name": "Python 3",
   "language": "python",
   "name": "python3"
  },
  "language_info": {
   "codemirror_mode": {
    "name": "ipython",
    "version": 3
   },
   "file_extension": ".py",
   "mimetype": "text/x-python",
   "name": "python",
   "nbconvert_exporter": "python",
   "pygments_lexer": "ipython3",
   "version": "3.8.3"
  }
 },
 "nbformat": 4,
 "nbformat_minor": 4
}
